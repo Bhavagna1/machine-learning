{
  "nbformat": 4,
  "nbformat_minor": 0,
  "metadata": {
    "colab": {
      "provenance": [],
      "authorship_tag": "ABX9TyMxekylnSsG23Np0vNgB3J2",
      "include_colab_link": true
    },
    "kernelspec": {
      "name": "python3",
      "display_name": "Python 3"
    },
    "language_info": {
      "name": "python"
    }
  },
  "cells": [
    {
      "cell_type": "markdown",
      "metadata": {
        "id": "view-in-github",
        "colab_type": "text"
      },
      "source": [
        "<a href=\"https://colab.research.google.com/github/Bhavagna1/machine-learning/blob/main/tokenization.ipynb\" target=\"_parent\"><img src=\"https://colab.research.google.com/assets/colab-badge.svg\" alt=\"Open In Colab\"/></a>"
      ]
    },
    {
      "cell_type": "code",
      "execution_count": 2,
      "metadata": {
        "colab": {
          "base_uri": "https://localhost:8080/"
        },
        "id": "hX1jOx_IBf_u",
        "outputId": "06c56761-454b-4135-e41d-3e69468003b4"
      },
      "outputs": [
        {
          "output_type": "stream",
          "name": "stdout",
          "text": [
            "['From', 'the', 'moment', 'we', 'open', 'our', 'eyes,', 'we', 'are', 'meaning-seeking', 'creatures,', 'looking', 'for', 'what', 'matters', 'though', 'we', 'carry', 'what', 'matters', 'deep', 'within', 'us.', 'And', 'more', 'than', 'the', 'hard-earned', 'understandings', 'we', 'arrive', 'at,', 'more', 'than', 'the', 'principles', 'or', 'beliefs', 'we', 'stitch', 'together', 'out', 'of', 'our', 'experience,', 'how', 'we', 'stay', 'in', 'relationship', 'to', 'the', 'mysterious', 'Whole', 'of', 'Life', 'is', 'what', 'brings', 'us', 'alive', 'and', 'keeps', 'us', 'alive.', 'Everyone', 'knows', 'firsthand', 'that', 'life', 'is', 'messy', 'and', 'painful,', 'beautiful', 'and', 'unpredictable.', 'The', 'endless', 'practice', 'is', 'keeping', 'our', 'heart', 'open', 'to', 'the', 'whole', 'of', 'it.', 'And', 'the', 'journey', 'of', 'becoming', 'who', 'we', 'were', 'born', 'to', 'be', 'never', 'ends.', 'It’s', 'limitless,', 'eternal.', 'We', 'don’t', 'arrive—we', 'grow.']\n"
          ]
        }
      ],
      "source": [
        "text='''From the moment we open our eyes, we are meaning-seeking creatures, looking for what matters though we carry what matters deep within us. And more than the hard-earned understandings we arrive at, more than the principles or beliefs we stitch together out of our experience, how we stay in relationship to the mysterious Whole of Life is what brings us alive and keeps us alive. Everyone knows firsthand that life is messy and painful, beautiful and unpredictable. The endless practice is keeping our heart open to the whole of it. And the journey of becoming who we were born to be never ends. It’s limitless, eternal. We don’t arrive—we grow.'''\n",
        "token=text.split()\n",
        "print(token)"
      ]
    },
    {
      "cell_type": "code",
      "source": [
        "sentence=text.split('.')\n",
        "print(sentence)"
      ],
      "metadata": {
        "colab": {
          "base_uri": "https://localhost:8080/"
        },
        "id": "1-2EvlLBEPXn",
        "outputId": "2665bb3c-27d6-4832-a919-b020a5d43cff"
      },
      "execution_count": 4,
      "outputs": [
        {
          "output_type": "stream",
          "name": "stdout",
          "text": [
            "['From the moment we open our eyes, we are meaning-seeking creatures, looking for what matters though we carry what matters deep within us', ' And more than the hard-earned understandings we arrive at, more than the principles or beliefs we stitch together out of our experience, how we stay in relationship to the mysterious Whole of Life is what brings us alive and keeps us alive', ' Everyone knows firsthand that life is messy and painful, beautiful and unpredictable', ' The endless practice is keeping our heart open to the whole of it', ' And the journey of becoming who we were born to be never ends', ' It’s limitless, eternal', ' We don’t arrive—we grow', '']\n"
          ]
        }
      ]
    },
    {
      "cell_type": "code",
      "source": [
        "sentence1=text.split(',')\n",
        "print(sentence1)"
      ],
      "metadata": {
        "colab": {
          "base_uri": "https://localhost:8080/"
        },
        "id": "YMICfilYEkkV",
        "outputId": "661db449-dcef-46de-ac63-6495de361495"
      },
      "execution_count": 5,
      "outputs": [
        {
          "output_type": "stream",
          "name": "stdout",
          "text": [
            "['From the moment we open our eyes', ' we are meaning-seeking creatures', ' looking for what matters though we carry what matters deep within us. And more than the hard-earned understandings we arrive at', ' more than the principles or beliefs we stitch together out of our experience', ' how we stay in relationship to the mysterious Whole of Life is what brings us alive and keeps us alive. Everyone knows firsthand that life is messy and painful', ' beautiful and unpredictable. The endless practice is keeping our heart open to the whole of it. And the journey of becoming who we were born to be never ends. It’s limitless', ' eternal. We don’t arrive—we grow.']\n"
          ]
        }
      ]
    },
    {
      "cell_type": "markdown",
      "source": [
        "# **USING REGULAR EXPRESSIONS**"
      ],
      "metadata": {
        "id": "nwv2pRxkEvFe"
      }
    },
    {
      "cell_type": "code",
      "source": [
        "import re\n"
      ],
      "metadata": {
        "id": "CZFIGo0dE6ZF"
      },
      "execution_count": 6,
      "outputs": []
    },
    {
      "cell_type": "code",
      "source": [
        "tokens=re.findall(\"[\\w']+\",text)\n",
        "print(tokens)"
      ],
      "metadata": {
        "colab": {
          "base_uri": "https://localhost:8080/"
        },
        "id": "XvzyfIdiE-5A",
        "outputId": "212afb35-bad5-41f5-c1db-e820a0fbc3c8"
      },
      "execution_count": 7,
      "outputs": [
        {
          "output_type": "stream",
          "name": "stdout",
          "text": [
            "['From', 'the', 'moment', 'we', 'open', 'our', 'eyes', 'we', 'are', 'meaning', 'seeking', 'creatures', 'looking', 'for', 'what', 'matters', 'though', 'we', 'carry', 'what', 'matters', 'deep', 'within', 'us', 'And', 'more', 'than', 'the', 'hard', 'earned', 'understandings', 'we', 'arrive', 'at', 'more', 'than', 'the', 'principles', 'or', 'beliefs', 'we', 'stitch', 'together', 'out', 'of', 'our', 'experience', 'how', 'we', 'stay', 'in', 'relationship', 'to', 'the', 'mysterious', 'Whole', 'of', 'Life', 'is', 'what', 'brings', 'us', 'alive', 'and', 'keeps', 'us', 'alive', 'Everyone', 'knows', 'firsthand', 'that', 'life', 'is', 'messy', 'and', 'painful', 'beautiful', 'and', 'unpredictable', 'The', 'endless', 'practice', 'is', 'keeping', 'our', 'heart', 'open', 'to', 'the', 'whole', 'of', 'it', 'And', 'the', 'journey', 'of', 'becoming', 'who', 'we', 'were', 'born', 'to', 'be', 'never', 'ends', 'It', 's', 'limitless', 'eternal', 'We', 'don', 't', 'arrive', 'we', 'grow']\n"
          ]
        }
      ]
    },
    {
      "cell_type": "code",
      "source": [
        "sentences=re.compile('[.?!,] ').split(text)\n",
        "print(sentences)"
      ],
      "metadata": {
        "colab": {
          "base_uri": "https://localhost:8080/"
        },
        "id": "PXudAWDHFtPM",
        "outputId": "5ff15a89-4f67-49f8-f775-d0ab9812dd2e"
      },
      "execution_count": 10,
      "outputs": [
        {
          "output_type": "stream",
          "name": "stdout",
          "text": [
            "['From the moment we open our eyes', 'we are meaning-seeking creatures', 'looking for what matters though we carry what matters deep within us', 'And more than the hard-earned understandings we arrive at', 'more than the principles or beliefs we stitch together out of our experience', 'how we stay in relationship to the mysterious Whole of Life is what brings us alive and keeps us alive', 'Everyone knows firsthand that life is messy and painful', 'beautiful and unpredictable', 'The endless practice is keeping our heart open to the whole of it', 'And the journey of becoming who we were born to be never ends', 'It’s limitless', 'eternal', 'We don’t arrive—we grow.']\n"
          ]
        }
      ]
    },
    {
      "cell_type": "markdown",
      "source": [
        "# **USING NLTK**"
      ],
      "metadata": {
        "id": "gdJgCKxJHWR6"
      }
    },
    {
      "cell_type": "code",
      "source": [
        "!pip install --user -U nltk"
      ],
      "metadata": {
        "colab": {
          "base_uri": "https://localhost:8080/"
        },
        "id": "nc-gVjjjHaX9",
        "outputId": "7e43ce78-2e85-4b53-b7f7-ba8c8eb9f49e"
      },
      "execution_count": 27,
      "outputs": [
        {
          "output_type": "stream",
          "name": "stdout",
          "text": [
            "Requirement already satisfied: nltk in /usr/local/lib/python3.10/dist-packages (3.8.1)\n",
            "Requirement already satisfied: click in /usr/local/lib/python3.10/dist-packages (from nltk) (8.1.7)\n",
            "Requirement already satisfied: joblib in /usr/local/lib/python3.10/dist-packages (from nltk) (1.3.2)\n",
            "Requirement already satisfied: regex>=2021.8.3 in /usr/local/lib/python3.10/dist-packages (from nltk) (2023.12.25)\n",
            "Requirement already satisfied: tqdm in /usr/local/lib/python3.10/dist-packages (from nltk) (4.66.2)\n"
          ]
        }
      ]
    },
    {
      "cell_type": "code",
      "source": [
        "import nltk\n",
        "nltk.download('punkt')"
      ],
      "metadata": {
        "colab": {
          "base_uri": "https://localhost:8080/"
        },
        "id": "whkjBuPNNRqZ",
        "outputId": "f7696400-cac8-41b2-8d77-5e1a8ccc44ec"
      },
      "execution_count": 28,
      "outputs": [
        {
          "output_type": "stream",
          "name": "stderr",
          "text": [
            "[nltk_data] Downloading package punkt to /root/nltk_data...\n",
            "[nltk_data]   Package punkt is already up-to-date!\n"
          ]
        },
        {
          "output_type": "execute_result",
          "data": {
            "text/plain": [
              "True"
            ]
          },
          "metadata": {},
          "execution_count": 28
        }
      ]
    },
    {
      "cell_type": "code",
      "source": [
        "from nltk.tokenize import word_tokenize\n",
        "tokens = word_tokenize(text)\n",
        "print(tokens)"
      ],
      "metadata": {
        "colab": {
          "base_uri": "https://localhost:8080/"
        },
        "id": "JwKOzQj3NjtJ",
        "outputId": "615e6e1e-aeb0-435b-d11c-a132a78c6481"
      },
      "execution_count": 29,
      "outputs": [
        {
          "output_type": "stream",
          "name": "stdout",
          "text": [
            "['From', 'the', 'moment', 'we', 'open', 'our', 'eyes', ',', 'we', 'are', 'meaning-seeking', 'creatures', ',', 'looking', 'for', 'what', 'matters', 'though', 'we', 'carry', 'what', 'matters', 'deep', 'within', 'us', '.', 'And', 'more', 'than', 'the', 'hard-earned', 'understandings', 'we', 'arrive', 'at', ',', 'more', 'than', 'the', 'principles', 'or', 'beliefs', 'we', 'stitch', 'together', 'out', 'of', 'our', 'experience', ',', 'how', 'we', 'stay', 'in', 'relationship', 'to', 'the', 'mysterious', 'Whole', 'of', 'Life', 'is', 'what', 'brings', 'us', 'alive', 'and', 'keeps', 'us', 'alive', '.', 'Everyone', 'knows', 'firsthand', 'that', 'life', 'is', 'messy', 'and', 'painful', ',', 'beautiful', 'and', 'unpredictable', '.', 'The', 'endless', 'practice', 'is', 'keeping', 'our', 'heart', 'open', 'to', 'the', 'whole', 'of', 'it', '.', 'And', 'the', 'journey', 'of', 'becoming', 'who', 'we', 'were', 'born', 'to', 'be', 'never', 'ends', '.', 'It', '’', 's', 'limitless', ',', 'eternal', '.', 'We', 'don', '’', 't', 'arrive—we', 'grow', '.']\n"
          ]
        }
      ]
    },
    {
      "cell_type": "code",
      "source": [
        "from nltk.tokenize import sent_tokenize\n",
        "sentences = sent_tokenize(text)\n",
        "print(sentences)"
      ],
      "metadata": {
        "colab": {
          "base_uri": "https://localhost:8080/"
        },
        "id": "e-hulhVTNoat",
        "outputId": "94958a55-5c35-4973-aa47-e24ea3d21e29"
      },
      "execution_count": 30,
      "outputs": [
        {
          "output_type": "stream",
          "name": "stdout",
          "text": [
            "['From the moment we open our eyes, we are meaning-seeking creatures, looking for what matters though we carry what matters deep within us.', 'And more than the hard-earned understandings we arrive at, more than the principles or beliefs we stitch together out of our experience, how we stay in relationship to the mysterious Whole of Life is what brings us alive and keeps us alive.', 'Everyone knows firsthand that life is messy and painful, beautiful and unpredictable.', 'The endless practice is keeping our heart open to the whole of it.', 'And the journey of becoming who we were born to be never ends.', 'It’s limitless, eternal.', 'We don’t arrive—we grow.']\n"
          ]
        }
      ]
    },
    {
      "cell_type": "code",
      "source": [
        "from nltk.stem import PorterStemmer"
      ],
      "metadata": {
        "id": "O5LSYAIsOaGm"
      },
      "execution_count": 31,
      "outputs": []
    },
    {
      "cell_type": "code",
      "source": [
        "porter = PorterStemmer()\n",
        "print(porter.stem(\"sings\"))\n",
        "print(porter.stem(\"depending\"))"
      ],
      "metadata": {
        "colab": {
          "base_uri": "https://localhost:8080/"
        },
        "id": "W1MuHSd7OkCI",
        "outputId": "c29b3e83-5172-4eca-e48d-1b35b1d98353"
      },
      "execution_count": 32,
      "outputs": [
        {
          "output_type": "stream",
          "name": "stdout",
          "text": [
            "sing\n",
            "depend\n"
          ]
        }
      ]
    },
    {
      "cell_type": "code",
      "source": [
        "\n",
        "from nltk.stem import PorterStemmer\n",
        "porter = PorterStemmer()\n",
        "\n",
        "sentence=\"Pythoners are very intelligent and work very pythonly and now they are pythoning their way to success.\"\n",
        "\n",
        "from nltk.tokenize import sent_tokenize, word_tokenize\n",
        "\n",
        "def stemSentence(sentence):\n",
        "    token_words=word_tokenize(sentence)\n",
        "    print(token_words)\n",
        "    stem_sentence=[]\n",
        "    for word in token_words:\n",
        "        stem_sentence.append(porter.stem(word))\n",
        "        stem_sentence.append(\" \")\n",
        "    return \"\".join(stem_sentence)\n",
        "\n",
        "x=stemSentence(sentence)\n",
        "print(\"Sentence after stemming :\", x)"
      ],
      "metadata": {
        "colab": {
          "base_uri": "https://localhost:8080/"
        },
        "id": "aihhmtk_R4RR",
        "outputId": "e37249d4-cff5-486c-a009-8e5344cba3fa"
      },
      "execution_count": 33,
      "outputs": [
        {
          "output_type": "stream",
          "name": "stdout",
          "text": [
            "['Pythoners', 'are', 'very', 'intelligent', 'and', 'work', 'very', 'pythonly', 'and', 'now', 'they', 'are', 'pythoning', 'their', 'way', 'to', 'success', '.']\n",
            "Sentence after stemming : python are veri intellig and work veri pythonli and now they are python their way to success . \n"
          ]
        }
      ]
    },
    {
      "cell_type": "code",
      "source": [
        "import nltk\n",
        "nltk.download('wordnet')\n",
        ""
      ],
      "metadata": {
        "colab": {
          "base_uri": "https://localhost:8080/"
        },
        "id": "RFn59bejYrCv",
        "outputId": "c3ff7ba1-425f-4108-f559-58b2e014ac65"
      },
      "execution_count": 36,
      "outputs": [
        {
          "output_type": "stream",
          "name": "stderr",
          "text": [
            "[nltk_data] Downloading package wordnet to /root/nltk_data...\n"
          ]
        },
        {
          "output_type": "execute_result",
          "data": {
            "text/plain": [
              "True"
            ]
          },
          "metadata": {},
          "execution_count": 36
        }
      ]
    },
    {
      "cell_type": "code",
      "source": [
        "import nltk\n",
        "from nltk.stem import WordNetLemmatizer\n",
        "wordnet_lemmatizer = WordNetLemmatizer()\n",
        "\n",
        "sentence = \"He was running and eating at same time. He has bad habit of swimming after playing long hours in the Sun.\"\n",
        "punctuations=\"?:!.,;\"\n",
        "token_words = nltk.word_tokenize(sentence)\n",
        "print(token_words)\n",
        "\n",
        "lemma_sentence=[]\n",
        "for word in token_words:\n",
        "  lemma_sentence.append(wordnet_lemmatizer.lemmatize(word))\n",
        "  lemma_sentence.append(\" \")\n",
        "\n",
        "print(\"lemmas of tokens: \", ''.join(lemma_sentence))"
      ],
      "metadata": {
        "colab": {
          "base_uri": "https://localhost:8080/"
        },
        "id": "78OAvwYLXAXb",
        "outputId": "32345559-a80c-4bc8-af11-1c208219cd3a"
      },
      "execution_count": 37,
      "outputs": [
        {
          "output_type": "stream",
          "name": "stdout",
          "text": [
            "['He', 'was', 'running', 'and', 'eating', 'at', 'same', 'time', '.', 'He', 'has', 'bad', 'habit', 'of', 'swimming', 'after', 'playing', 'long', 'hours', 'in', 'the', 'Sun', '.']\n",
            "lemmas of tokens:  He wa running and eating at same time . He ha bad habit of swimming after playing long hour in the Sun . \n"
          ]
        }
      ]
    }
  ]
}